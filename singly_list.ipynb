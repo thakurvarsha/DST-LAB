{
  "nbformat": 4,
  "nbformat_minor": 0,
  "metadata": {
    "colab": {
      "provenance": []
    },
    "kernelspec": {
      "name": "python3",
      "display_name": "Python 3"
    },
    "language_info": {
      "name": "python"
    }
  },
  "cells": [
    {
      "cell_type": "code",
      "execution_count": 1,
      "metadata": {
        "colab": {
          "base_uri": "https://localhost:8080/"
        },
        "id": "k0BXyDL20qTs",
        "outputId": "096c522c-448b-45e7-8adc-6e86bfe8f569"
      },
      "outputs": [
        {
          "output_type": "stream",
          "name": "stdout",
          "text": [
            "50 -->20 -->"
          ]
        }
      ],
      "source": [
        "class Node:\n",
        "  def __init__(self, data):\n",
        "    self.data = data\n",
        "    self.ref = None\n",
        "node1 = Node (10)\n",
        "\n",
        "# traversal of linked list\n",
        "class Linkedlist:\n",
        "  def __init__(self):\n",
        "    self.head = None\n",
        "  def print_LL(self):\n",
        "    if self.head is None:\n",
        "      print(\"linked list is empty\")\n",
        "    else:\n",
        "      n = self.head\n",
        "      while n is not None:\n",
        "        print(n.data,\"-->\", end=\"\")\n",
        "        n = n.ref\n",
        "# insertion at the beginning\n",
        "  def add_begin(self, data):\n",
        "   new_node = Node(data)\n",
        "   new_node.ref = self.head\n",
        "   self.head = new_node\n",
        "# insertion at the end\n",
        "  def add_end(self, data):\n",
        "    new_node = Node(data)\n",
        "    if self.head is None:\n",
        "      self.head = new_node\n",
        "    else:\n",
        "      n = self.head\n",
        "      while n.ref is not None:\n",
        "       n = n.ref\n",
        "      n.ref = new_node\n",
        "# insertion inbetween\n",
        "  def add_after(self, data, X):\n",
        "   n = self.head\n",
        "   while n is not None:\n",
        "    if X == n.data:\n",
        "      break\n",
        "    n= n.ref\n",
        "   if n is None:\n",
        "    print(\"node is not present in LL\")\n",
        "   else:\n",
        "    new_node = Node(data)\n",
        "    new_node.ref = n.ref\n",
        "    n.ref = new_node\n",
        "# deletion at beginning\n",
        "  def delete_begin(self):\n",
        "   if self.head is None:\n",
        "    print(\"LL is empty so we can't delete nodes\")\n",
        "   else:\n",
        "    self.head = self.head.ref\n",
        "# deletion at end\n",
        "  def delete_end(self):\n",
        "   if self.head is None:\n",
        "    print(\"LL is empty can't delete nodes\")\n",
        "   else:\n",
        "    n = self.head\n",
        "    while n.ref.ref is not None:\n",
        "      n = n.ref\n",
        "    n.ref = None\n",
        "LL1 = Linkedlist()\n",
        "LL1.add_begin(20)\n",
        "LL1.add_begin(10)\n",
        "LL1.add_after(50,10)\n",
        "LL1.add_end(100)\n",
        "LL1.delete_begin()\n",
        "LL1.delete_end()\n",
        "LL1.print_LL()"
      ]
    }
  ]
}